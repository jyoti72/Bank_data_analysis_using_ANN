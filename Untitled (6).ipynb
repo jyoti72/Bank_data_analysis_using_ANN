{
 "cells": [
  {
   "cell_type": "markdown",
   "metadata": {},
   "source": [
    "The dataset contains bank data with 10k customers, the bank has been seen as an unusual turn rate. People leaving the bank at a high rate and bank don't understand the reason why? The purpose of this model is to analyze the dataset and understand the reason why customers are leaving the bank. and deploy the model on new customers to know either customer leaves the bank or not and prepare and might do some special offers so that they will stay at the bank. By using this model we will predict the probability of the customers leaving the bank."
   ]
  },
  {
   "cell_type": "markdown",
   "metadata": {},
   "source": [
    "# Importing the libraries"
   ]
  },
  {
   "cell_type": "code",
   "execution_count": 91,
   "metadata": {},
   "outputs": [],
   "source": [
    "import numpy as np\n",
    "import pandas as pd\n",
    "import tensorflow as tf"
   ]
  },
  {
   "cell_type": "code",
   "execution_count": 92,
   "metadata": {},
   "outputs": [
    {
     "data": {
      "text/plain": [
       "'1.13.1'"
      ]
     },
     "execution_count": 92,
     "metadata": {},
     "output_type": "execute_result"
    }
   ],
   "source": [
    "tf.__version__"
   ]
  },
  {
   "cell_type": "markdown",
   "metadata": {},
   "source": [
    "# Part:1 Data Preprocessing"
   ]
  },
  {
   "cell_type": "markdown",
   "metadata": {},
   "source": [
    "# Importing the dataset"
   ]
  },
  {
   "cell_type": "code",
   "execution_count": 93,
   "metadata": {},
   "outputs": [
    {
     "data": {
      "text/html": [
       "<div>\n",
       "<style scoped>\n",
       "    .dataframe tbody tr th:only-of-type {\n",
       "        vertical-align: middle;\n",
       "    }\n",
       "\n",
       "    .dataframe tbody tr th {\n",
       "        vertical-align: top;\n",
       "    }\n",
       "\n",
       "    .dataframe thead th {\n",
       "        text-align: right;\n",
       "    }\n",
       "</style>\n",
       "<table border=\"1\" class=\"dataframe\">\n",
       "  <thead>\n",
       "    <tr style=\"text-align: right;\">\n",
       "      <th></th>\n",
       "      <th>RowNumber</th>\n",
       "      <th>CustomerId</th>\n",
       "      <th>Surname</th>\n",
       "      <th>CreditScore</th>\n",
       "      <th>Geography</th>\n",
       "      <th>Gender</th>\n",
       "      <th>Age</th>\n",
       "      <th>Tenure</th>\n",
       "      <th>Balance</th>\n",
       "      <th>NumOfProducts</th>\n",
       "      <th>HasCrCard</th>\n",
       "      <th>IsActiveMember</th>\n",
       "      <th>EstimatedSalary</th>\n",
       "      <th>Exited</th>\n",
       "    </tr>\n",
       "  </thead>\n",
       "  <tbody>\n",
       "    <tr>\n",
       "      <th>0</th>\n",
       "      <td>1</td>\n",
       "      <td>15634602</td>\n",
       "      <td>Hargrave</td>\n",
       "      <td>619</td>\n",
       "      <td>France</td>\n",
       "      <td>Female</td>\n",
       "      <td>42</td>\n",
       "      <td>2</td>\n",
       "      <td>0.00</td>\n",
       "      <td>1</td>\n",
       "      <td>1</td>\n",
       "      <td>1</td>\n",
       "      <td>101348.88</td>\n",
       "      <td>1</td>\n",
       "    </tr>\n",
       "    <tr>\n",
       "      <th>1</th>\n",
       "      <td>2</td>\n",
       "      <td>15647311</td>\n",
       "      <td>Hill</td>\n",
       "      <td>608</td>\n",
       "      <td>Spain</td>\n",
       "      <td>Female</td>\n",
       "      <td>41</td>\n",
       "      <td>1</td>\n",
       "      <td>83807.86</td>\n",
       "      <td>1</td>\n",
       "      <td>0</td>\n",
       "      <td>1</td>\n",
       "      <td>112542.58</td>\n",
       "      <td>0</td>\n",
       "    </tr>\n",
       "    <tr>\n",
       "      <th>2</th>\n",
       "      <td>3</td>\n",
       "      <td>15619304</td>\n",
       "      <td>Onio</td>\n",
       "      <td>502</td>\n",
       "      <td>France</td>\n",
       "      <td>Female</td>\n",
       "      <td>42</td>\n",
       "      <td>8</td>\n",
       "      <td>159660.80</td>\n",
       "      <td>3</td>\n",
       "      <td>1</td>\n",
       "      <td>0</td>\n",
       "      <td>113931.57</td>\n",
       "      <td>1</td>\n",
       "    </tr>\n",
       "    <tr>\n",
       "      <th>3</th>\n",
       "      <td>4</td>\n",
       "      <td>15701354</td>\n",
       "      <td>Boni</td>\n",
       "      <td>699</td>\n",
       "      <td>France</td>\n",
       "      <td>Female</td>\n",
       "      <td>39</td>\n",
       "      <td>1</td>\n",
       "      <td>0.00</td>\n",
       "      <td>2</td>\n",
       "      <td>0</td>\n",
       "      <td>0</td>\n",
       "      <td>93826.63</td>\n",
       "      <td>0</td>\n",
       "    </tr>\n",
       "    <tr>\n",
       "      <th>4</th>\n",
       "      <td>5</td>\n",
       "      <td>15737888</td>\n",
       "      <td>Mitchell</td>\n",
       "      <td>850</td>\n",
       "      <td>Spain</td>\n",
       "      <td>Female</td>\n",
       "      <td>43</td>\n",
       "      <td>2</td>\n",
       "      <td>125510.82</td>\n",
       "      <td>1</td>\n",
       "      <td>1</td>\n",
       "      <td>1</td>\n",
       "      <td>79084.10</td>\n",
       "      <td>0</td>\n",
       "    </tr>\n",
       "  </tbody>\n",
       "</table>\n",
       "</div>"
      ],
      "text/plain": [
       "   RowNumber  CustomerId   Surname  CreditScore Geography  Gender  Age  \\\n",
       "0          1    15634602  Hargrave          619    France  Female   42   \n",
       "1          2    15647311      Hill          608     Spain  Female   41   \n",
       "2          3    15619304      Onio          502    France  Female   42   \n",
       "3          4    15701354      Boni          699    France  Female   39   \n",
       "4          5    15737888  Mitchell          850     Spain  Female   43   \n",
       "\n",
       "   Tenure    Balance  NumOfProducts  HasCrCard  IsActiveMember  \\\n",
       "0       2       0.00              1          1               1   \n",
       "1       1   83807.86              1          0               1   \n",
       "2       8  159660.80              3          1               0   \n",
       "3       1       0.00              2          0               0   \n",
       "4       2  125510.82              1          1               1   \n",
       "\n",
       "   EstimatedSalary  Exited  \n",
       "0        101348.88       1  \n",
       "1        112542.58       0  \n",
       "2        113931.57       1  \n",
       "3         93826.63       0  \n",
       "4         79084.10       0  "
      ]
     },
     "execution_count": 93,
     "metadata": {},
     "output_type": "execute_result"
    }
   ],
   "source": [
    "dataset=pd.read_csv('Churn_Modelling.csv')\n",
    "dataset.head()"
   ]
  },
  {
   "cell_type": "code",
   "execution_count": 94,
   "metadata": {},
   "outputs": [],
   "source": [
    "x = dataset.iloc[:, 3:-1].values\n",
    "y = dataset.iloc[:, -1].values"
   ]
  },
  {
   "cell_type": "code",
   "execution_count": 95,
   "metadata": {},
   "outputs": [
    {
     "name": "stdout",
     "output_type": "stream",
     "text": [
      "[1 0 1 ... 1 1 0]\n"
     ]
    }
   ],
   "source": [
    "print(y)"
   ]
  },
  {
   "cell_type": "code",
   "execution_count": 96,
   "metadata": {},
   "outputs": [
    {
     "name": "stdout",
     "output_type": "stream",
     "text": [
      "[[619 'France' 'Female' ... 1 1 101348.88]\n",
      " [608 'Spain' 'Female' ... 0 1 112542.58]\n",
      " [502 'France' 'Female' ... 1 0 113931.57]\n",
      " ...\n",
      " [709 'France' 'Female' ... 0 1 42085.58]\n",
      " [772 'Germany' 'Male' ... 1 0 92888.52]\n",
      " [792 'France' 'Female' ... 1 0 38190.78]]\n"
     ]
    }
   ],
   "source": [
    "print(x)"
   ]
  },
  {
   "cell_type": "markdown",
   "metadata": {},
   "source": [
    "# Encoding Categorical data"
   ]
  },
  {
   "cell_type": "markdown",
   "metadata": {},
   "source": [
    "# label Encoding"
   ]
  },
  {
   "cell_type": "code",
   "execution_count": 97,
   "metadata": {},
   "outputs": [],
   "source": [
    "from sklearn.preprocessing import LabelEncoder\n",
    "le=LabelEncoder()\n",
    "x[:, 2]=le.fit_transform(x[:, 2])\n"
   ]
  },
  {
   "cell_type": "code",
   "execution_count": 98,
   "metadata": {},
   "outputs": [
    {
     "name": "stdout",
     "output_type": "stream",
     "text": [
      "[[619 'France' 0 ... 1 1 101348.88]\n",
      " [608 'Spain' 0 ... 0 1 112542.58]\n",
      " [502 'France' 0 ... 1 0 113931.57]\n",
      " ...\n",
      " [709 'France' 0 ... 0 1 42085.58]\n",
      " [772 'Germany' 1 ... 1 0 92888.52]\n",
      " [792 'France' 0 ... 1 0 38190.78]]\n"
     ]
    }
   ],
   "source": [
    "print(x)"
   ]
  },
  {
   "cell_type": "markdown",
   "metadata": {},
   "source": [
    "# OneHotEncoding"
   ]
  },
  {
   "cell_type": "code",
   "execution_count": 99,
   "metadata": {},
   "outputs": [],
   "source": [
    "from sklearn.compose import ColumnTransformer\n",
    "from sklearn.preprocessing import OneHotEncoder\n",
    "ct=ColumnTransformer(transformers=[('encoder', OneHotEncoder(), [1])], remainder='passthrough')\n",
    "x = np.array(ct.fit_transform(x))"
   ]
  },
  {
   "cell_type": "code",
   "execution_count": 100,
   "metadata": {},
   "outputs": [
    {
     "name": "stdout",
     "output_type": "stream",
     "text": [
      "[[1.0 0.0 0.0 ... 1 1 101348.88]\n",
      " [0.0 0.0 1.0 ... 0 1 112542.58]\n",
      " [1.0 0.0 0.0 ... 1 0 113931.57]\n",
      " ...\n",
      " [1.0 0.0 0.0 ... 0 1 42085.58]\n",
      " [0.0 1.0 0.0 ... 1 0 92888.52]\n",
      " [1.0 0.0 0.0 ... 1 0 38190.78]]\n"
     ]
    }
   ],
   "source": [
    "print(x)"
   ]
  },
  {
   "cell_type": "markdown",
   "metadata": {},
   "source": [
    "# Spliting the data Into testset and train set"
   ]
  },
  {
   "cell_type": "code",
   "execution_count": 101,
   "metadata": {},
   "outputs": [],
   "source": [
    "from sklearn.model_selection import train_test_split\n",
    "x_train, x_test, y_train, y_test=train_test_split(x, y, test_size=0.2, random_state=0)"
   ]
  },
  {
   "cell_type": "markdown",
   "metadata": {},
   "source": [
    "# feature Scalling"
   ]
  },
  {
   "cell_type": "code",
   "execution_count": 102,
   "metadata": {},
   "outputs": [],
   "source": [
    "from sklearn.preprocessing import StandardScaler\n",
    "sc=StandardScaler()\n",
    "x_train=sc.fit_transform(x_train)\n",
    "x_test=sc.fit_transform(x_test)"
   ]
  },
  {
   "cell_type": "markdown",
   "metadata": {},
   "source": [
    "# Part:2 Building the ANN"
   ]
  },
  {
   "cell_type": "markdown",
   "metadata": {},
   "source": [
    "# Initializing the ANN"
   ]
  },
  {
   "cell_type": "code",
   "execution_count": 103,
   "metadata": {},
   "outputs": [],
   "source": [
    "from tensorflow import keras\n",
    "from tensorflow.keras import layers \n",
    "from tensorflow.keras.models import Sequential\n",
    "ann=tf.keras.models.Sequential()\n",
    "\n"
   ]
  },
  {
   "cell_type": "markdown",
   "metadata": {},
   "source": [
    "# Adding the input layer\n",
    "first Hiden Layer"
   ]
  },
  {
   "cell_type": "code",
   "execution_count": 104,
   "metadata": {},
   "outputs": [],
   "source": [
    "#from tensorflow.keras.layers import Dense\n",
    "ann.add(tf.keras.layers.Dense(units=10, activation='relu'))"
   ]
  },
  {
   "cell_type": "code",
   "execution_count": 105,
   "metadata": {},
   "outputs": [],
   "source": [
    "#Secound Hidden Layer\n",
    "ann.add(tf.keras.layers.Dense(units=10, activation='relu'))"
   ]
  },
  {
   "cell_type": "code",
   "execution_count": 106,
   "metadata": {},
   "outputs": [],
   "source": [
    "# Adding outputlayers\n",
    "ann.add(tf.keras.layers.Dense(units=1, activation='sigmoid'))"
   ]
  },
  {
   "cell_type": "markdown",
   "metadata": {},
   "source": [
    "# Part:3 Training the ANN"
   ]
  },
  {
   "cell_type": "markdown",
   "metadata": {},
   "source": [
    "# Compiling the ANN"
   ]
  },
  {
   "cell_type": "code",
   "execution_count": 107,
   "metadata": {},
   "outputs": [],
   "source": [
    "ann.compile(optimizer='adam', loss='binary_crossentropy', metrics = ['accuracy']) # for non_binary=categorical_crossentropy"
   ]
  },
  {
   "cell_type": "markdown",
   "metadata": {},
   "source": [
    "# Training the ANN on Trainingset"
   ]
  },
  {
   "cell_type": "code",
   "execution_count": 108,
   "metadata": {},
   "outputs": [
    {
     "name": "stdout",
     "output_type": "stream",
     "text": [
      "Epoch 1/200\n",
      "8000/8000 [==============================] - 1s 70us/sample - loss: 0.5363 - acc: 0.7868\n",
      "Epoch 2/200\n",
      "8000/8000 [==============================] - 0s 32us/sample - loss: 0.4610 - acc: 0.8001\n",
      "Epoch 3/200\n",
      "8000/8000 [==============================] - 0s 32us/sample - loss: 0.4356 - acc: 0.8104\n",
      "Epoch 4/200\n",
      "8000/8000 [==============================] - 0s 32us/sample - loss: 0.4229 - acc: 0.8161\n",
      "Epoch 5/200\n",
      "8000/8000 [==============================] - 0s 33us/sample - loss: 0.4152 - acc: 0.8192\n",
      "Epoch 6/200\n",
      "8000/8000 [==============================] - 0s 32us/sample - loss: 0.4089 - acc: 0.8215\n",
      "Epoch 7/200\n",
      "8000/8000 [==============================] - 0s 34us/sample - loss: 0.4031 - acc: 0.8254\n",
      "Epoch 8/200\n",
      "8000/8000 [==============================] - 0s 33us/sample - loss: 0.3979 - acc: 0.8265\n",
      "Epoch 9/200\n",
      "8000/8000 [==============================] - 0s 32us/sample - loss: 0.3916 - acc: 0.8322\n",
      "Epoch 10/200\n",
      "8000/8000 [==============================] - 0s 33us/sample - loss: 0.3852 - acc: 0.8356\n",
      "Epoch 11/200\n",
      "8000/8000 [==============================] - 0s 36us/sample - loss: 0.3783 - acc: 0.8410\n",
      "Epoch 12/200\n",
      "8000/8000 [==============================] - 0s 42us/sample - loss: 0.3714 - acc: 0.8447\n",
      "Epoch 13/200\n",
      "8000/8000 [==============================] - 0s 34us/sample - loss: 0.3662 - acc: 0.8476\n",
      "Epoch 14/200\n",
      "8000/8000 [==============================] - 0s 35us/sample - loss: 0.3605 - acc: 0.8505\n",
      "Epoch 15/200\n",
      "8000/8000 [==============================] - 0s 34us/sample - loss: 0.3559 - acc: 0.8533\n",
      "Epoch 16/200\n",
      "8000/8000 [==============================] - 0s 35us/sample - loss: 0.3532 - acc: 0.8528\n",
      "Epoch 17/200\n",
      "8000/8000 [==============================] - 0s 34us/sample - loss: 0.3505 - acc: 0.8547\n",
      "Epoch 18/200\n",
      "8000/8000 [==============================] - 0s 33us/sample - loss: 0.3480 - acc: 0.8556\n",
      "Epoch 19/200\n",
      "8000/8000 [==============================] - 0s 34us/sample - loss: 0.3467 - acc: 0.8559\n",
      "Epoch 20/200\n",
      "8000/8000 [==============================] - 0s 33us/sample - loss: 0.3451 - acc: 0.8553\n",
      "Epoch 21/200\n",
      "8000/8000 [==============================] - 0s 33us/sample - loss: 0.3438 - acc: 0.8574\n",
      "Epoch 22/200\n",
      "8000/8000 [==============================] - 0s 34us/sample - loss: 0.3428 - acc: 0.8580\n",
      "Epoch 23/200\n",
      "8000/8000 [==============================] - 0s 32us/sample - loss: 0.3423 - acc: 0.8580\n",
      "Epoch 24/200\n",
      "8000/8000 [==============================] - 0s 36us/sample - loss: 0.3415 - acc: 0.8580\n",
      "Epoch 25/200\n",
      "8000/8000 [==============================] - 0s 38us/sample - loss: 0.3409 - acc: 0.8579\n",
      "Epoch 26/200\n",
      "8000/8000 [==============================] - 0s 38us/sample - loss: 0.3398 - acc: 0.8581\n",
      "Epoch 27/200\n",
      "8000/8000 [==============================] - 0s 38us/sample - loss: 0.3402 - acc: 0.8597\n",
      "Epoch 28/200\n",
      "8000/8000 [==============================] - 0s 36us/sample - loss: 0.3396 - acc: 0.8584\n",
      "Epoch 29/200\n",
      "8000/8000 [==============================] - 0s 37us/sample - loss: 0.3386 - acc: 0.8611\n",
      "Epoch 30/200\n",
      "8000/8000 [==============================] - 0s 42us/sample - loss: 0.3387 - acc: 0.8601\n",
      "Epoch 31/200\n",
      "8000/8000 [==============================] - 0s 35us/sample - loss: 0.3377 - acc: 0.8606\n",
      "Epoch 32/200\n",
      "8000/8000 [==============================] - 0s 35us/sample - loss: 0.3379 - acc: 0.8608\n",
      "Epoch 33/200\n",
      "8000/8000 [==============================] - 0s 34us/sample - loss: 0.3374 - acc: 0.8599\n",
      "Epoch 34/200\n",
      "8000/8000 [==============================] - 0s 34us/sample - loss: 0.3373 - acc: 0.8609\n",
      "Epoch 35/200\n",
      "8000/8000 [==============================] - 0s 33us/sample - loss: 0.3369 - acc: 0.8604\n",
      "Epoch 36/200\n",
      "8000/8000 [==============================] - 0s 33us/sample - loss: 0.3367 - acc: 0.8609\n",
      "Epoch 37/200\n",
      "8000/8000 [==============================] - 0s 34us/sample - loss: 0.3367 - acc: 0.8597\n",
      "Epoch 38/200\n",
      "8000/8000 [==============================] - 0s 38us/sample - loss: 0.3362 - acc: 0.8595\n",
      "Epoch 39/200\n",
      "8000/8000 [==============================] - 0s 37us/sample - loss: 0.3357 - acc: 0.8594\n",
      "Epoch 40/200\n",
      "8000/8000 [==============================] - 0s 34us/sample - loss: 0.3354 - acc: 0.8616\n",
      "Epoch 41/200\n",
      "8000/8000 [==============================] - 0s 34us/sample - loss: 0.3362 - acc: 0.8606\n",
      "Epoch 42/200\n",
      "8000/8000 [==============================] - 0s 35us/sample - loss: 0.3350 - acc: 0.8608\n",
      "Epoch 43/200\n",
      "8000/8000 [==============================] - 0s 35us/sample - loss: 0.3354 - acc: 0.8631\n",
      "Epoch 44/200\n",
      "8000/8000 [==============================] - 0s 34us/sample - loss: 0.3350 - acc: 0.8605\n",
      "Epoch 45/200\n",
      "8000/8000 [==============================] - 0s 33us/sample - loss: 0.3346 - acc: 0.8609\n",
      "Epoch 46/200\n",
      "8000/8000 [==============================] - 0s 33us/sample - loss: 0.3338 - acc: 0.8615\n",
      "Epoch 47/200\n",
      "8000/8000 [==============================] - 0s 33us/sample - loss: 0.3343 - acc: 0.8616\n",
      "Epoch 48/200\n",
      "8000/8000 [==============================] - 0s 33us/sample - loss: 0.3334 - acc: 0.8633\n",
      "Epoch 49/200\n",
      "8000/8000 [==============================] - 0s 34us/sample - loss: 0.3337 - acc: 0.8625\n",
      "Epoch 50/200\n",
      "8000/8000 [==============================] - 0s 34us/sample - loss: 0.3335 - acc: 0.8629\n",
      "Epoch 51/200\n",
      "8000/8000 [==============================] - 0s 35us/sample - loss: 0.3332 - acc: 0.8611\n",
      "Epoch 52/200\n",
      "8000/8000 [==============================] - 0s 37us/sample - loss: 0.3323 - acc: 0.8616\n",
      "Epoch 53/200\n",
      "8000/8000 [==============================] - 0s 40us/sample - loss: 0.3331 - acc: 0.8630\n",
      "Epoch 54/200\n",
      "8000/8000 [==============================] - 0s 34us/sample - loss: 0.3329 - acc: 0.8635\n",
      "Epoch 55/200\n",
      "8000/8000 [==============================] - 0s 39us/sample - loss: 0.3328 - acc: 0.8618\n",
      "Epoch 56/200\n",
      "8000/8000 [==============================] - 0s 33us/sample - loss: 0.3322 - acc: 0.8615\n",
      "Epoch 57/200\n",
      "8000/8000 [==============================] - 0s 35us/sample - loss: 0.3322 - acc: 0.8624\n",
      "Epoch 58/200\n",
      "8000/8000 [==============================] - 0s 34us/sample - loss: 0.3319 - acc: 0.8611\n",
      "Epoch 59/200\n",
      "8000/8000 [==============================] - 0s 33us/sample - loss: 0.3320 - acc: 0.8614\n",
      "Epoch 60/200\n",
      "8000/8000 [==============================] - 0s 34us/sample - loss: 0.3314 - acc: 0.8636\n",
      "Epoch 61/200\n",
      "8000/8000 [==============================] - 0s 34us/sample - loss: 0.3314 - acc: 0.8612\n",
      "Epoch 62/200\n",
      "8000/8000 [==============================] - 0s 34us/sample - loss: 0.3316 - acc: 0.8629\n",
      "Epoch 63/200\n",
      "8000/8000 [==============================] - 0s 34us/sample - loss: 0.3316 - acc: 0.8631\n",
      "Epoch 64/200\n",
      "8000/8000 [==============================] - 0s 35us/sample - loss: 0.3310 - acc: 0.8626\n",
      "Epoch 65/200\n",
      "8000/8000 [==============================] - 0s 34us/sample - loss: 0.3311 - acc: 0.8604\n",
      "Epoch 66/200\n",
      "8000/8000 [==============================] - 0s 33us/sample - loss: 0.3313 - acc: 0.8626\n",
      "Epoch 67/200\n",
      "8000/8000 [==============================] - 0s 33us/sample - loss: 0.3311 - acc: 0.8610\n",
      "Epoch 68/200\n",
      "8000/8000 [==============================] - 0s 34us/sample - loss: 0.3310 - acc: 0.8625\n",
      "Epoch 69/200\n",
      "8000/8000 [==============================] - 0s 34us/sample - loss: 0.3307 - acc: 0.8634\n",
      "Epoch 70/200\n",
      "8000/8000 [==============================] - 0s 37us/sample - loss: 0.3306 - acc: 0.8633\n",
      "Epoch 71/200\n",
      "8000/8000 [==============================] - 0s 34us/sample - loss: 0.3306 - acc: 0.8640\n",
      "Epoch 72/200\n",
      "8000/8000 [==============================] - 0s 37us/sample - loss: 0.3305 - acc: 0.8649\n",
      "Epoch 73/200\n",
      "8000/8000 [==============================] - 0s 36us/sample - loss: 0.3299 - acc: 0.8624\n",
      "Epoch 74/200\n",
      "8000/8000 [==============================] - 0s 36us/sample - loss: 0.3305 - acc: 0.8616\n",
      "Epoch 75/200\n",
      "8000/8000 [==============================] - 0s 35us/sample - loss: 0.3302 - acc: 0.8626\n",
      "Epoch 76/200\n",
      "8000/8000 [==============================] - 0s 35us/sample - loss: 0.3300 - acc: 0.8620\n",
      "Epoch 77/200\n",
      "8000/8000 [==============================] - 0s 36us/sample - loss: 0.3298 - acc: 0.8630\n",
      "Epoch 78/200\n",
      "8000/8000 [==============================] - 0s 35us/sample - loss: 0.3298 - acc: 0.8612\n",
      "Epoch 79/200\n",
      "8000/8000 [==============================] - 0s 38us/sample - loss: 0.3295 - acc: 0.8618\n",
      "Epoch 80/200\n",
      "8000/8000 [==============================] - 0s 33us/sample - loss: 0.3292 - acc: 0.8635\n",
      "Epoch 81/200\n"
     ]
    },
    {
     "name": "stdout",
     "output_type": "stream",
     "text": [
      "8000/8000 [==============================] - 0s 32us/sample - loss: 0.3292 - acc: 0.8650\n",
      "Epoch 82/200\n",
      "8000/8000 [==============================] - 0s 33us/sample - loss: 0.3293 - acc: 0.8624\n",
      "Epoch 83/200\n",
      "8000/8000 [==============================] - 0s 31us/sample - loss: 0.3297 - acc: 0.8622\n",
      "Epoch 84/200\n",
      "8000/8000 [==============================] - 0s 31us/sample - loss: 0.3285 - acc: 0.8629\n",
      "Epoch 85/200\n",
      "8000/8000 [==============================] - 0s 30us/sample - loss: 0.3285 - acc: 0.8639\n",
      "Epoch 86/200\n",
      "8000/8000 [==============================] - 0s 37us/sample - loss: 0.3287 - acc: 0.8622\n",
      "Epoch 87/200\n",
      "8000/8000 [==============================] - 0s 30us/sample - loss: 0.3288 - acc: 0.8630\n",
      "Epoch 88/200\n",
      "8000/8000 [==============================] - 0s 30us/sample - loss: 0.3285 - acc: 0.8622\n",
      "Epoch 89/200\n",
      "8000/8000 [==============================] - 0s 30us/sample - loss: 0.3284 - acc: 0.8641\n",
      "Epoch 90/200\n",
      "8000/8000 [==============================] - 0s 30us/sample - loss: 0.3284 - acc: 0.8636\n",
      "Epoch 91/200\n",
      "8000/8000 [==============================] - 0s 30us/sample - loss: 0.3281 - acc: 0.8639\n",
      "Epoch 92/200\n",
      "8000/8000 [==============================] - 0s 30us/sample - loss: 0.3277 - acc: 0.8639\n",
      "Epoch 93/200\n",
      "8000/8000 [==============================] - 0s 30us/sample - loss: 0.3274 - acc: 0.8636\n",
      "Epoch 94/200\n",
      "8000/8000 [==============================] - 0s 30us/sample - loss: 0.3278 - acc: 0.8658\n",
      "Epoch 95/200\n",
      "8000/8000 [==============================] - 0s 30us/sample - loss: 0.3275 - acc: 0.8639\n",
      "Epoch 96/200\n",
      "8000/8000 [==============================] - 0s 30us/sample - loss: 0.3275 - acc: 0.8646\n",
      "Epoch 97/200\n",
      "8000/8000 [==============================] - 0s 31us/sample - loss: 0.3274 - acc: 0.8651\n",
      "Epoch 98/200\n",
      "8000/8000 [==============================] - 0s 31us/sample - loss: 0.3275 - acc: 0.8646\n",
      "Epoch 99/200\n",
      "8000/8000 [==============================] - 0s 33us/sample - loss: 0.3270 - acc: 0.8654\n",
      "Epoch 100/200\n",
      "8000/8000 [==============================] - 0s 31us/sample - loss: 0.3269 - acc: 0.8648\n",
      "Epoch 101/200\n",
      "8000/8000 [==============================] - 0s 30us/sample - loss: 0.3272 - acc: 0.8649\n",
      "Epoch 102/200\n",
      "8000/8000 [==============================] - 0s 30us/sample - loss: 0.3272 - acc: 0.8674\n",
      "Epoch 103/200\n",
      "8000/8000 [==============================] - 0s 31us/sample - loss: 0.3269 - acc: 0.8660\n",
      "Epoch 104/200\n",
      "8000/8000 [==============================] - 0s 30us/sample - loss: 0.3272 - acc: 0.8650\n",
      "Epoch 105/200\n",
      "8000/8000 [==============================] - 0s 30us/sample - loss: 0.3268 - acc: 0.8652\n",
      "Epoch 106/200\n",
      "8000/8000 [==============================] - 0s 31us/sample - loss: 0.3263 - acc: 0.8661\n",
      "Epoch 107/200\n",
      "8000/8000 [==============================] - 0s 30us/sample - loss: 0.3268 - acc: 0.8656\n",
      "Epoch 108/200\n",
      "8000/8000 [==============================] - 0s 30us/sample - loss: 0.3263 - acc: 0.8652\n",
      "Epoch 109/200\n",
      "8000/8000 [==============================] - 0s 31us/sample - loss: 0.3261 - acc: 0.8665\n",
      "Epoch 110/200\n",
      "8000/8000 [==============================] - 0s 30us/sample - loss: 0.3264 - acc: 0.8654\n",
      "Epoch 111/200\n",
      "8000/8000 [==============================] - 0s 30us/sample - loss: 0.3260 - acc: 0.8651\n",
      "Epoch 112/200\n",
      "8000/8000 [==============================] - 0s 31us/sample - loss: 0.3261 - acc: 0.8662\n",
      "Epoch 113/200\n",
      "8000/8000 [==============================] - 0s 30us/sample - loss: 0.3258 - acc: 0.8664\n",
      "Epoch 114/200\n",
      "8000/8000 [==============================] - ETA: 0s - loss: 0.3261 - acc: 0.865 - 0s 30us/sample - loss: 0.3258 - acc: 0.8660\n",
      "Epoch 115/200\n",
      "8000/8000 [==============================] - 0s 31us/sample - loss: 0.3259 - acc: 0.8658\n",
      "Epoch 116/200\n",
      "8000/8000 [==============================] - 0s 30us/sample - loss: 0.3265 - acc: 0.8648\n",
      "Epoch 117/200\n",
      "8000/8000 [==============================] - 0s 30us/sample - loss: 0.3259 - acc: 0.8650\n",
      "Epoch 118/200\n",
      "8000/8000 [==============================] - 0s 30us/sample - loss: 0.3259 - acc: 0.8650\n",
      "Epoch 119/200\n",
      "8000/8000 [==============================] - 0s 31us/sample - loss: 0.3258 - acc: 0.8649\n",
      "Epoch 120/200\n",
      "8000/8000 [==============================] - 0s 31us/sample - loss: 0.3254 - acc: 0.8658\n",
      "Epoch 121/200\n",
      "8000/8000 [==============================] - 0s 30us/sample - loss: 0.3252 - acc: 0.8669\n",
      "Epoch 122/200\n",
      "8000/8000 [==============================] - 0s 31us/sample - loss: 0.3253 - acc: 0.8666\n",
      "Epoch 123/200\n",
      "8000/8000 [==============================] - 0s 30us/sample - loss: 0.3253 - acc: 0.8652\n",
      "Epoch 124/200\n",
      "8000/8000 [==============================] - 0s 31us/sample - loss: 0.3249 - acc: 0.8668\n",
      "Epoch 125/200\n",
      "8000/8000 [==============================] - 0s 30us/sample - loss: 0.3244 - acc: 0.8695\n",
      "Epoch 126/200\n",
      "8000/8000 [==============================] - 0s 31us/sample - loss: 0.3256 - acc: 0.8670\n",
      "Epoch 127/200\n",
      "8000/8000 [==============================] - 0s 30us/sample - loss: 0.3252 - acc: 0.8660\n",
      "Epoch 128/200\n",
      "8000/8000 [==============================] - 0s 30us/sample - loss: 0.3246 - acc: 0.8673\n",
      "Epoch 129/200\n",
      "8000/8000 [==============================] - 0s 31us/sample - loss: 0.3251 - acc: 0.8670\n",
      "Epoch 130/200\n",
      "8000/8000 [==============================] - 0s 30us/sample - loss: 0.3249 - acc: 0.8664\n",
      "Epoch 131/200\n",
      "8000/8000 [==============================] - 0s 30us/sample - loss: 0.3252 - acc: 0.8668\n",
      "Epoch 132/200\n",
      "8000/8000 [==============================] - 0s 31us/sample - loss: 0.3248 - acc: 0.8669\n",
      "Epoch 133/200\n",
      "8000/8000 [==============================] - 0s 30us/sample - loss: 0.3245 - acc: 0.8673\n",
      "Epoch 134/200\n",
      "8000/8000 [==============================] - 0s 31us/sample - loss: 0.3249 - acc: 0.8654\n",
      "Epoch 135/200\n",
      "8000/8000 [==============================] - 0s 30us/sample - loss: 0.3243 - acc: 0.8656\n",
      "Epoch 136/200\n",
      "8000/8000 [==============================] - 0s 31us/sample - loss: 0.3248 - acc: 0.8673\n",
      "Epoch 137/200\n",
      "8000/8000 [==============================] - 0s 31us/sample - loss: 0.3245 - acc: 0.8670\n",
      "Epoch 138/200\n",
      "8000/8000 [==============================] - 0s 30us/sample - loss: 0.3244 - acc: 0.8651\n",
      "Epoch 139/200\n",
      "8000/8000 [==============================] - 0s 31us/sample - loss: 0.3240 - acc: 0.8680\n",
      "Epoch 140/200\n",
      "8000/8000 [==============================] - 0s 31us/sample - loss: 0.3241 - acc: 0.8649\n",
      "Epoch 141/200\n",
      "8000/8000 [==============================] - 0s 31us/sample - loss: 0.3242 - acc: 0.8677\n",
      "Epoch 142/200\n",
      "8000/8000 [==============================] - 0s 30us/sample - loss: 0.3239 - acc: 0.8664\n",
      "Epoch 143/200\n",
      "8000/8000 [==============================] - 0s 31us/sample - loss: 0.3241 - acc: 0.8660\n",
      "Epoch 144/200\n",
      "8000/8000 [==============================] - 0s 31us/sample - loss: 0.3242 - acc: 0.8668\n",
      "Epoch 145/200\n",
      "8000/8000 [==============================] - 0s 31us/sample - loss: 0.3240 - acc: 0.8669\n",
      "Epoch 146/200\n",
      "8000/8000 [==============================] - 0s 30us/sample - loss: 0.3237 - acc: 0.8670\n",
      "Epoch 147/200\n",
      "8000/8000 [==============================] - 0s 31us/sample - loss: 0.3238 - acc: 0.8652\n",
      "Epoch 148/200\n",
      "8000/8000 [==============================] - 0s 31us/sample - loss: 0.3241 - acc: 0.8662\n",
      "Epoch 149/200\n",
      "8000/8000 [==============================] - 0s 30us/sample - loss: 0.3236 - acc: 0.8687\n",
      "Epoch 150/200\n",
      "8000/8000 [==============================] - 0s 31us/sample - loss: 0.3241 - acc: 0.8656\n",
      "Epoch 151/200\n",
      "8000/8000 [==============================] - 0s 31us/sample - loss: 0.3239 - acc: 0.8675\n",
      "Epoch 152/200\n",
      "8000/8000 [==============================] - 0s 31us/sample - loss: 0.3237 - acc: 0.8681\n",
      "Epoch 153/200\n",
      "8000/8000 [==============================] - 0s 31us/sample - loss: 0.3240 - acc: 0.8661\n",
      "Epoch 154/200\n",
      "8000/8000 [==============================] - 0s 30us/sample - loss: 0.3232 - acc: 0.8671\n",
      "Epoch 155/200\n",
      "8000/8000 [==============================] - 0s 31us/sample - loss: 0.3234 - acc: 0.8685\n",
      "Epoch 156/200\n",
      "8000/8000 [==============================] - 0s 31us/sample - loss: 0.3238 - acc: 0.8681\n",
      "Epoch 157/200\n",
      "8000/8000 [==============================] - 0s 30us/sample - loss: 0.3232 - acc: 0.8670\n",
      "Epoch 158/200\n",
      "8000/8000 [==============================] - 0s 30us/sample - loss: 0.3233 - acc: 0.8689\n",
      "Epoch 159/200\n",
      "8000/8000 [==============================] - 0s 31us/sample - loss: 0.3228 - acc: 0.8680\n",
      "Epoch 160/200\n"
     ]
    },
    {
     "name": "stdout",
     "output_type": "stream",
     "text": [
      "8000/8000 [==============================] - 0s 31us/sample - loss: 0.3233 - acc: 0.8669\n",
      "Epoch 161/200\n",
      "8000/8000 [==============================] - 0s 30us/sample - loss: 0.3231 - acc: 0.8676\n",
      "Epoch 162/200\n",
      "8000/8000 [==============================] - 0s 31us/sample - loss: 0.3234 - acc: 0.8674\n",
      "Epoch 163/200\n",
      "8000/8000 [==============================] - 0s 30us/sample - loss: 0.3225 - acc: 0.8670\n",
      "Epoch 164/200\n",
      "8000/8000 [==============================] - 0s 30us/sample - loss: 0.3228 - acc: 0.8677\n",
      "Epoch 165/200\n",
      "8000/8000 [==============================] - 0s 31us/sample - loss: 0.3227 - acc: 0.8689\n",
      "Epoch 166/200\n",
      "8000/8000 [==============================] - 0s 30us/sample - loss: 0.3228 - acc: 0.8681\n",
      "Epoch 167/200\n",
      "8000/8000 [==============================] - 0s 31us/sample - loss: 0.3231 - acc: 0.8691\n",
      "Epoch 168/200\n",
      "8000/8000 [==============================] - 0s 30us/sample - loss: 0.3223 - acc: 0.8681\n",
      "Epoch 169/200\n",
      "8000/8000 [==============================] - 0s 30us/sample - loss: 0.3230 - acc: 0.8660\n",
      "Epoch 170/200\n",
      "8000/8000 [==============================] - 0s 30us/sample - loss: 0.3226 - acc: 0.8668\n",
      "Epoch 171/200\n",
      "8000/8000 [==============================] - 0s 31us/sample - loss: 0.3226 - acc: 0.8681\n",
      "Epoch 172/200\n",
      "8000/8000 [==============================] - 0s 30us/sample - loss: 0.3225 - acc: 0.8671\n",
      "Epoch 173/200\n",
      "8000/8000 [==============================] - 0s 30us/sample - loss: 0.3221 - acc: 0.8683\n",
      "Epoch 174/200\n",
      "8000/8000 [==============================] - ETA: 0s - loss: 0.3187 - acc: 0.870 - 0s 30us/sample - loss: 0.3223 - acc: 0.8685\n",
      "Epoch 175/200\n",
      "8000/8000 [==============================] - 0s 30us/sample - loss: 0.3223 - acc: 0.8677\n",
      "Epoch 176/200\n",
      "8000/8000 [==============================] - 0s 30us/sample - loss: 0.3221 - acc: 0.8668\n",
      "Epoch 177/200\n",
      "8000/8000 [==============================] - 0s 30us/sample - loss: 0.3222 - acc: 0.8680\n",
      "Epoch 178/200\n",
      "8000/8000 [==============================] - 0s 30us/sample - loss: 0.3223 - acc: 0.8673\n",
      "Epoch 179/200\n",
      "8000/8000 [==============================] - 0s 30us/sample - loss: 0.3227 - acc: 0.8668\n",
      "Epoch 180/200\n",
      "8000/8000 [==============================] - 0s 30us/sample - loss: 0.3220 - acc: 0.8683\n",
      "Epoch 181/200\n",
      "8000/8000 [==============================] - 0s 31us/sample - loss: 0.3220 - acc: 0.8671\n",
      "Epoch 182/200\n",
      "8000/8000 [==============================] - 0s 30us/sample - loss: 0.3217 - acc: 0.8687\n",
      "Epoch 183/200\n",
      "8000/8000 [==============================] - 0s 30us/sample - loss: 0.3218 - acc: 0.8659\n",
      "Epoch 184/200\n",
      "8000/8000 [==============================] - 0s 30us/sample - loss: 0.3217 - acc: 0.8685\n",
      "Epoch 185/200\n",
      "8000/8000 [==============================] - 0s 30us/sample - loss: 0.3219 - acc: 0.8686\n",
      "Epoch 186/200\n",
      "8000/8000 [==============================] - 0s 31us/sample - loss: 0.3217 - acc: 0.8690\n",
      "Epoch 187/200\n",
      "8000/8000 [==============================] - 0s 30us/sample - loss: 0.3214 - acc: 0.8683\n",
      "Epoch 188/200\n",
      "8000/8000 [==============================] - 0s 31us/sample - loss: 0.3218 - acc: 0.8684\n",
      "Epoch 189/200\n",
      "8000/8000 [==============================] - 0s 30us/sample - loss: 0.3219 - acc: 0.8690\n",
      "Epoch 190/200\n",
      "8000/8000 [==============================] - 0s 30us/sample - loss: 0.3223 - acc: 0.8670\n",
      "Epoch 191/200\n",
      "8000/8000 [==============================] - 0s 30us/sample - loss: 0.3214 - acc: 0.8666\n",
      "Epoch 192/200\n",
      "8000/8000 [==============================] - 0s 43us/sample - loss: 0.3219 - acc: 0.8670\n",
      "Epoch 193/200\n",
      "8000/8000 [==============================] - 0s 41us/sample - loss: 0.3221 - acc: 0.8671\n",
      "Epoch 194/200\n",
      "8000/8000 [==============================] - 0s 31us/sample - loss: 0.3214 - acc: 0.8685\n",
      "Epoch 195/200\n",
      "8000/8000 [==============================] - 0s 34us/sample - loss: 0.3216 - acc: 0.8677\n",
      "Epoch 196/200\n",
      "8000/8000 [==============================] - 0s 30us/sample - loss: 0.3218 - acc: 0.8696\n",
      "Epoch 197/200\n",
      "8000/8000 [==============================] - 0s 32us/sample - loss: 0.3209 - acc: 0.8683\n",
      "Epoch 198/200\n",
      "8000/8000 [==============================] - 0s 33us/sample - loss: 0.3227 - acc: 0.8666\n",
      "Epoch 199/200\n",
      "8000/8000 [==============================] - 0s 32us/sample - loss: 0.3216 - acc: 0.8669\n",
      "Epoch 200/200\n",
      "8000/8000 [==============================] - 0s 30us/sample - loss: 0.3212 - acc: 0.8680\n"
     ]
    },
    {
     "data": {
      "text/plain": [
       "<tensorflow.python.keras.callbacks.History at 0x1e47c60e6a0>"
      ]
     },
     "execution_count": 108,
     "metadata": {},
     "output_type": "execute_result"
    }
   ],
   "source": [
    "ann.fit(x_train, y_train, batch_size=50, epochs=200)"
   ]
  },
  {
   "cell_type": "code",
   "execution_count": null,
   "metadata": {},
   "outputs": [],
   "source": []
  },
  {
   "cell_type": "markdown",
   "metadata": {},
   "source": [
    "# Part:4 Making the prediction and evaluationg the model"
   ]
  },
  {
   "cell_type": "markdown",
   "metadata": {},
   "source": [
    "# predicting the result of single observation"
   ]
  },
  {
   "cell_type": "code",
   "execution_count": 112,
   "metadata": {},
   "outputs": [
    {
     "name": "stdout",
     "output_type": "stream",
     "text": [
      "[[False]]\n"
     ]
    }
   ],
   "source": [
    "print(ann.predict(sc.transform([[1, 0, 0, 600, 1, 40, 3, 60000, 2, 1, 1,50000]])) > 0.5)"
   ]
  },
  {
   "cell_type": "code",
   "execution_count": null,
   "metadata": {},
   "outputs": [],
   "source": [
    "#this customer will not gonna leave the bank"
   ]
  },
  {
   "cell_type": "markdown",
   "metadata": {},
   "source": [
    "# predicting the testset result"
   ]
  },
  {
   "cell_type": "code",
   "execution_count": 110,
   "metadata": {},
   "outputs": [
    {
     "name": "stdout",
     "output_type": "stream",
     "text": [
      "[[0 0]\n",
      " [0 1]\n",
      " [0 0]\n",
      " ...\n",
      " [0 0]\n",
      " [0 0]\n",
      " [0 0]]\n"
     ]
    }
   ],
   "source": [
    "y_pred=ann.predict(x_test)\n",
    "# to convert in binary\n",
    "y_pred = (y_pred > 0.5)\n",
    "print(np.concatenate((y_pred.reshape(len(y_pred), 1), y_test.reshape(len(y_test), 1)),1))\n"
   ]
  },
  {
   "cell_type": "markdown",
   "metadata": {},
   "source": [
    "# Making the confusion matrix"
   ]
  },
  {
   "cell_type": "code",
   "execution_count": 111,
   "metadata": {},
   "outputs": [
    {
     "name": "stdout",
     "output_type": "stream",
     "text": [
      "[[1527   68]\n",
      " [ 221  184]]\n"
     ]
    },
    {
     "data": {
      "text/plain": [
       "0.8555"
      ]
     },
     "execution_count": 111,
     "metadata": {},
     "output_type": "execute_result"
    }
   ],
   "source": [
    "from sklearn.metrics import confusion_matrix, accuracy_score\n",
    "cm=confusion_matrix(y_test, y_pred)\n",
    "print(cm)\n",
    "accuracy_score(y_test, y_pred)"
   ]
  },
  {
   "cell_type": "raw",
   "metadata": {},
   "source": [
    "#Acuracy over 85%\n",
    "# 1527 correct predictions that customers  stays at the bank\n",
    "# 68 incorrect predictions\n",
    "#184 correct predictions that customer leaves the bank\n",
    "# 221 incorrect predictions"
   ]
  }
 ],
 "metadata": {
  "kernelspec": {
   "display_name": "Python 3",
   "language": "python",
   "name": "python3"
  },
  "language_info": {
   "codemirror_mode": {
    "name": "ipython",
    "version": 3
   },
   "file_extension": ".py",
   "mimetype": "text/x-python",
   "name": "python",
   "nbconvert_exporter": "python",
   "pygments_lexer": "ipython3",
   "version": "3.6.10"
  }
 },
 "nbformat": 4,
 "nbformat_minor": 2
}
